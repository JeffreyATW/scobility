{
 "cells": [
  {
   "cell_type": "code",
   "execution_count": null,
   "metadata": {},
   "outputs": [],
   "source": [
    "import json\n",
    "import glob\n",
    "import os\n",
    "from functools import reduce\n",
    "\n",
    "import numpy as np\n",
    "from matplotlib import pyplot as plt\n",
    "\n",
    "from enum import IntEnum\n",
    "from dataclasses import dataclass, field\n",
    "from typing import List\n",
    "from copy import deepcopy\n",
    "\n",
    "from scobility import *"
   ]
  },
  {
   "cell_type": "code",
   "execution_count": null,
   "metadata": {},
   "outputs": [],
   "source": [
    "itl = Tournament()\n",
    "\n",
    "# https://github.com/G-Wen/itl_history\n",
    "\n",
    "# Song info\n",
    "song_files = glob.glob('itl_data/song_info/*.json')\n",
    "for fn in song_files:\n",
    "    with open(fn, 'r') as fp:\n",
    "        song_data = json.load(fp)\n",
    "        s = Song(song_data['song'])\n",
    "        itl.songs[s.s_id] = s\n",
    "\n",
    "# Player info\n",
    "player_files = glob.glob('itl_data/entrant_info/*.json')\n",
    "for fn in player_files:\n",
    "    with open(fn, 'r') as fp:\n",
    "        player_data = json.load(fp)\n",
    "        p = Player(player_data['entrant'])\n",
    "        itl.players[p.e_id] = p\n",
    "\n",
    "# Score data\n",
    "score_files = glob.glob('itl_data/song_scores/*.json')\n",
    "for fn in score_files:\n",
    "    with open(fn, 'r') as fp:\n",
    "        score_data = json.load(fp)\n",
    "        itl.load_score_data(score_data['scores'])"
   ]
  },
  {
   "cell_type": "code",
   "execution_count": null,
   "metadata": {},
   "outputs": [],
   "source": [
    "# Calculate relationships\n",
    "itl.setup_relationships()\n",
    "itl.calc_relationships(verbal=False)"
   ]
  },
  {
   "cell_type": "code",
   "execution_count": null,
   "metadata": {},
   "outputs": [],
   "source": [
    "itl.order_songs_initial(verbal=True, visual=False)"
   ]
  },
  {
   "cell_type": "code",
   "execution_count": null,
   "metadata": {},
   "outputs": [],
   "source": [
    "# A few iterations of plain bubble sort until the worst un-ordered offenders\n",
    "# are smoothed out.\n",
    "for a in range(10):\n",
    "    prev_ordering = [s for s in itl.ordering]\n",
    "    for i in range(len(itl.ordering)-1):\n",
    "        # Bubble sort!\n",
    "        x = itl.ordering[i]\n",
    "        y = itl.ordering[i+1]\n",
    "        r_fwd = itl.relationship_lookup(x, y, allow_link=True)\n",
    "        r_rev = itl.relationship_lookup(y, x, allow_link=True)\n",
    "        if r_fwd and r_fwd.relation < Tournament.MONO_THRESHOLD:\n",
    "            if r_rev and r_rev.relation > r_fwd.relation:\n",
    "                # Only swap if an improvement would be observed!\n",
    "                itl.ordering = itl.ordering[:i] + [y, x] + itl.ordering[i+2:]\n",
    "    for i, (prev, next) in enumerate(zip(prev_ordering, itl.ordering)):\n",
    "        if prev.s_id != next.s_id:\n",
    "            print(f'#{i:3d}: {prev} -> {next}')"
   ]
  },
  {
   "cell_type": "code",
   "execution_count": null,
   "metadata": {},
   "outputs": [],
   "source": [
    "# checking my work haha\n",
    "order_progressive_rel = []\n",
    "for i_song in range(len(itl.ordering)-1):\n",
    "    order_progressive_rel.append(itl.relationship_lookup(itl.ordering[i_song], itl.ordering[i_song+1]))\n",
    "for r in order_progressive_rel:\n",
    "    print(f\"{r.pair_title():50s}:\\n>>> corr. {r.relation:0.6f} from {len(r.e_common)} players\")\n",
    "\n",
    "plt.plot([r.relation for r in order_progressive_rel])\n",
    "plt.plot([1 for r in order_progressive_rel])\n",
    "plt.show()"
   ]
  },
  {
   "cell_type": "code",
   "execution_count": null,
   "metadata": {},
   "outputs": [],
   "source": [
    "# Generate the scobility rating for each chart.\n",
    "m = 2               # Minimum scobility is 1.0\n",
    "for i, s in enumerate(itl.ordering):\n",
    "    print(f\"{np.log2(m):5.1f}🌶️ {str(s):>60s}\")\n",
    "    if i < len(itl.ordering)-1:\n",
    "        r = itl.relationship_lookup(itl.ordering[i], itl.ordering[i+1])\n",
    "        m *= r.relation"
   ]
  },
  {
   "cell_type": "code",
   "execution_count": null,
   "metadata": {},
   "outputs": [],
   "source": [
    "# Generate the naive scobility rating for each chart.\n",
    "scobility = []\n",
    "for i, s in enumerate(itl.ordering):\n",
    "    if i == 0:\n",
    "        scobility = [1]               # Minimum scobility is 0.0\n",
    "        continue\n",
    "    r = itl.relationship_lookup(itl.ordering[i-1], itl.ordering[i])\n",
    "    scobility.append(scobility[-1] * r.relation)\n",
    "\n",
    "for i, s in enumerate(itl.ordering):\n",
    "    print(f\"{np.log2(scobility[i]):5.1f}🌶️ {str(s):>60s}\")"
   ]
  },
  {
   "cell_type": "code",
   "execution_count": null,
   "metadata": {},
   "outputs": [],
   "source": [
    "# Converge the scobility rating by comparing with charts that are \"close\".\n",
    "\n",
    "scobility_rev = [v for v in scobility]\n",
    "ordering_rev = [s for s in itl.ordering]\n",
    "check_window_lower = 10\n",
    "check_window_upper = 6\n",
    "scobility_iter = 500\n",
    "for k in range(scobility_iter):\n",
    "    ordering_last = [v for v in ordering_rev]\n",
    "    for i, s in enumerate(ordering_rev):\n",
    "        window = ordering_rev[max(0, i - check_window_lower) : min(i + check_window_upper + 1, len(ordering_rev))]\n",
    "        nearby_scobility = scobility_rev[max(0, i - check_window_lower) : min(i + check_window_upper + 1, len(ordering_rev))]\n",
    "        rel_window = [itl.relationship_lookup(w, s) for w in window]\n",
    "        nearby_relation = [r.relation for r in rel_window]\n",
    "        nearby_strength = [r.strength for r in rel_window]\n",
    "        nearby_contrib = [r * s * v for r, s, v in zip(nearby_relation, nearby_strength, nearby_scobility)]\n",
    "        v_new = sum(nearby_contrib) / sum(nearby_strength)\n",
    "        # print(f'#{i:3d}: {s}\\n>>> {[f\"{v:0.6f}\" for v in nearby_relation]}\\n>>> {[f\"{v:8.3f}\" for v in nearby_strength]}')\n",
    "        # print(f'#{i:3d}: {s}\\n>>>{scobility_rev[i]:0.6f} -> {v_new:0.6f}\\n>>> {[f\"{v:0.6f}\" for v in nearby_contrib]}')\n",
    "        scobility_rev[i] = v_new\n",
    "    scobility_sort = [x for x in zip(scobility_rev, ordering_rev)]\n",
    "    scobility_sort.sort(key=lambda x: x[0])\n",
    "    scobility_rev = [x[0] / scobility_sort[0][0] for x in scobility_sort]          # Keep minimum scobility pinned at 0.0\n",
    "    ordering_rev = [x[1] for x in scobility_sort]\n",
    "    print(f'>>> Iteration {k+1:2d}: max scobility = {np.log2(scobility_rev[-1]):0.6f}')\n",
    "    for i, (prev, next) in enumerate(zip(ordering_last, ordering_rev)):\n",
    "        if prev.s_id != next.s_id:\n",
    "            pass #print(f'Iteration {k+1:2d}... #{i:3d}: {prev} -> {next}')"
   ]
  },
  {
   "cell_type": "code",
   "execution_count": null,
   "metadata": {},
   "outputs": [],
   "source": [
    "for i, s in enumerate(ordering_rev):\n",
    "    print(f\"{np.log2(scobility_rev[i]):5.3f}🌶️ {str(s):>70s}\")"
   ]
  },
  {
   "cell_type": "code",
   "execution_count": null,
   "metadata": {},
   "outputs": [],
   "source": [
    "check_ends = 5\n",
    "rel_ends = []\n",
    "for s_lo in ordering_rev[1:check_ends]:\n",
    "    for s_hi in ordering_rev[-check_ends:-1]:\n",
    "        r = itl.relationship_lookup(s_lo, s_hi, allow_link=True)\n",
    "        print(r)\n",
    "        rel_ends.append(r)"
   ]
  },
  {
   "cell_type": "code",
   "execution_count": null,
   "metadata": {},
   "outputs": [],
   "source": [
    "def quick_plot(r: Relationship):\n",
    "    x_scores = [r.x.scores[e_id].value for e_id in r.e_common]\n",
    "    y_scores = [r.y.scores[e_id].value for e_id in r.e_common]\n",
    "\n",
    "    ex_matrix = 1 - np.vstack([x_scores, y_scores]) * Relationship.SCORE_SCALAR\n",
    "\n",
    "    screen_max_neg = np.amax(ex_matrix, axis=0)\n",
    "    screen_min_neg = np.amin(ex_matrix, axis=0)\n",
    "\n",
    "    ex_matrix_screen = ex_matrix[:, np.logical_and(\n",
    "        ex_matrix[0, :] < 0.10,\n",
    "        ex_matrix[1, :] < 0.20,\n",
    "        screen_min_neg > Relationship.MIN_NEG_LIMIT\n",
    "    )]\n",
    "\n",
    "    x_all = ex_matrix_screen[0, :]\n",
    "    y_all = ex_matrix_screen[1, :]\n",
    "\n",
    "    plt.scatter(x_all, y_all)\n",
    "    plt.show()\n",
    "\n",
    "quick_plot(rel_ends[5])"
   ]
  }
 ],
 "metadata": {
  "interpreter": {
   "hash": "ad591a7912bf18f1beae865b0f14454c03ff05fe45c5918a2edf17c8adcefbea"
  },
  "kernelspec": {
   "display_name": "Python 3.7.9 ('Notebooks-9n88m3ta')",
   "language": "python",
   "name": "python3"
  },
  "language_info": {
   "codemirror_mode": {
    "name": "ipython",
    "version": 3
   },
   "file_extension": ".py",
   "mimetype": "text/x-python",
   "name": "python",
   "nbconvert_exporter": "python",
   "pygments_lexer": "ipython3",
   "version": "3.8.7"
  },
  "orig_nbformat": 4
 },
 "nbformat": 4,
 "nbformat_minor": 2
}
