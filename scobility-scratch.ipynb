{
 "cells": [
  {
   "cell_type": "code",
   "execution_count": null,
   "metadata": {},
   "outputs": [],
   "source": [
    "import csv\n",
    "\n",
    "_FIELD_NAMES = [\n",
    "    'song_title',\n",
    "    'song_hash',\n",
    "    'song_difficulty',\n",
    "    'song_meter',\n",
    "    'members_name',\n",
    "    'score',\n",
    "    'lamp'\n",
    "]\n",
    "\n",
    "song_hash_chars = {}\n",
    "\n",
    "src = '3ic_data/3ic_data_20220805.csv'\n",
    "with open(src, 'r', encoding='utf-8') as fp:\n",
    "    reader = csv.DictReader(fp, fieldnames=_FIELD_NAMES)\n",
    "    for row in reader:\n",
    "        for c in row['song_hash']:\n",
    "            if c in song_hash_chars:\n",
    "                song_hash_chars[c] += 1\n",
    "            else:\n",
    "                song_hash_chars[c] = 0\n",
    "\n",
    "print(len(song_hash_chars))"
   ]
  },
  {
   "cell_type": "code",
   "execution_count": null,
   "metadata": {},
   "outputs": [],
   "source": [
    "for c in sorted(song_hash_chars):\n",
    "    print(f'{c:3s} {ord(c):3d} 0x{ord(c):02X}')"
   ]
  },
  {
   "cell_type": "code",
   "execution_count": null,
   "metadata": {},
   "outputs": [],
   "source": [
    "def a8e(s: str) -> str:\n",
    "    s = s.strip()\n",
    "    s2 = [c for c in s.lower() if (c >= 'a' and c <= 'z') or (c >= '0' and c <= '9')]\n",
    "    l = len(s2)\n",
    "    return f'{s[0]}{l-2}{s[-1]}'\n",
    "\n",
    "for t in ['Puberty Dysthymia', 'Cytokinesis', 'Dance Dance Revolution']:\n",
    "    print(a8e(t))\n"
   ]
  },
  {
   "cell_type": "code",
   "execution_count": null,
   "metadata": {},
   "outputs": [],
   "source": [
    "v = [chr(v + ord('A')) for v in range(5)]\n",
    "\n",
    "load_order = []\n",
    "\n",
    "for i_row, a in enumerate(v):\n",
    "    tri = v[i_row:]\n",
    "    if i_row % 2 == 1:\n",
    "         tri.reverse()\n",
    "    for i_col, b in enumerate(tri):\n",
    "        load_order.append( (a, b) )\n",
    "\n",
    "load_replacement = [load_order[0]]\n",
    "for prev, next in zip(load_order[:-1], load_order[1:]):\n",
    "    repl = [a != b and b or None for a, b in zip(prev, next)]\n",
    "    load_replacement.append(tuple(repl))\n",
    "\n",
    "print(load_replacement)\n"
   ]
  },
  {
   "cell_type": "code",
   "execution_count": null,
   "metadata": {},
   "outputs": [],
   "source": [
    "_PARTITION_SIZE = 3\n",
    "_TOTAL_LENGTH = 26\n",
    "_EXCLUDE_DIAGONAL = True\n",
    "_EXPLICIT_PAIRS = False\n",
    "\n",
    "v = [chr(v + ord('A')) for v in range(_TOTAL_LENGTH)]\n",
    "v_part = [v[i:i+_PARTITION_SIZE] for i in range(0, _TOTAL_LENGTH, _PARTITION_SIZE)]\n",
    "print(v_part)\n",
    "\n",
    "load_order = []\n",
    "\n",
    "load_replacement = []\n",
    "exc_diag = _EXCLUDE_DIAGONAL and 1 or 0\n",
    "for i_row in range(0, len(v_part), 2):\n",
    "    # (i, i) --> (i, n)\n",
    "    for i_col in range(i_row + exc_diag, len(v_part)):\n",
    "        if _EXPLICIT_PAIRS or (i_col == i_row + exc_diag):\n",
    "            load_replacement.append( (i_row, i_col) )\n",
    "        else:\n",
    "            load_replacement.append( (None, i_col) )\n",
    "\n",
    "    # (i+1, i+1) <-- (i+1, n)\n",
    "    if i_row + 1 >= len(v_part):\n",
    "        break\n",
    "    for i_col in range(len(v_part) - 1, i_row + exc_diag, -1):\n",
    "        if i_col == len(v_part) - 1:\n",
    "            load_replacement.append( (i_row + 1, _EXPLICIT_PAIRS and i_col or None) )\n",
    "        else:\n",
    "            load_replacement.append( (_EXPLICIT_PAIRS and (i_row + 1) or None, i_col) )\n",
    "\n",
    "print(load_replacement)\n"
   ]
  },
  {
   "cell_type": "code",
   "execution_count": null,
   "metadata": {},
   "outputs": [],
   "source": [
    "import requests\n",
    "import logging\n",
    "import os\n",
    "import json\n",
    "from datetime import datetime as dt\n",
    "\n",
    "def timestamp():\n",
    "    return dt.utcnow().strftime('%Y%m%d-%H%M%S-%f')[:-3]\n",
    "p = os.path.join('itl2023_data', dt.utcnow().strftime('%Y%m%d'))\n",
    "\n",
    "# Set up logging\n",
    "logging.getLogger().handlers.clear()\n",
    "log_stamp = timestamp()\n",
    "log_path = os.path.join(p, f'scobility-scrape-{log_stamp}.log')\n",
    "log_fmt = logging.Formatter(\n",
    "    '[%(asctime)s.%(msecs)03d] %(levelname)-8s %(message)s',\n",
    "    datefmt='%Y-%m-%d %H:%M:%S'\n",
    ")\n",
    "logging.basicConfig(\n",
    "    filename=log_path,\n",
    "    encoding='utf-8',\n",
    "    level=logging.INFO\n",
    ")\n",
    "logging.getLogger().addHandler(logging.StreamHandler())\n",
    "for handler in logging.getLogger().handlers:\n",
    "    handler.setFormatter(log_fmt)"
   ]
  },
  {
   "cell_type": "code",
   "execution_count": null,
   "metadata": {},
   "outputs": [],
   "source": [
    "# Chart query\n",
    "charts = {}\n",
    "strikes = []\n",
    "for i in range(10000):\n",
    "    r = requests.get(f'https://itl2023.groovestats.com/api/chart/{i}')\n",
    "    j = r.json()\n",
    "    if not j.get('success', False):\n",
    "        logging.warning(f\"{i:4d}: {j.get('message', '')}\")\n",
    "        strikes.append(i)\n",
    "        if len(strikes) > 5:\n",
    "            break\n",
    "    else:\n",
    "        strikes = []\n",
    "        charts[i] = j.get('data', {})\n",
    "        full_name = f\"{charts[i].get('artist')} - \\\"{charts[i].get('title')}\\\"\"\n",
    "        logging.info(f'{i:4d}: {full_name}')\n",
    "\n",
    "if not os.path.exists(p):\n",
    "    os.makedirs(p)\n",
    "with open(os.path.join(p, 'charts.json'), 'w', encoding='utf-8') as fp:\n",
    "    json.dump(charts, fp)"
   ]
  },
  {
   "cell_type": "code",
   "execution_count": null,
   "metadata": {},
   "outputs": [],
   "source": [
    "p_entrants = os.path.join(p, 'entrant_info')\n",
    "if not os.path.exists(p_entrants):\n",
    "    os.makedirs(p_entrants)\n",
    "\n",
    "# Entrant query\n",
    "entrants = {}\n",
    "strikes = []\n",
    "for i in range(10000):\n",
    "    r = requests.get(f'https://itl2023.groovestats.com/api/entrant/{i}')\n",
    "    j = r.json()\n",
    "    if not j.get('success', False):\n",
    "        logging.warning(f\"{i:4d}: {j.get('message', '')}\")\n",
    "        strikes.append(i)\n",
    "        if len(strikes) > 5:\n",
    "            break\n",
    "    else:\n",
    "        strikes = []\n",
    "        entrants[i] = j.get('data', {})\n",
    "        full_name = f\"{entrants[i]['entrant']['name']} (ITL #{entrants[i]['entrant']['id']}, GS #{entrants[i]['entrant']['membersId']})\"\n",
    "        logging.info(f'{i:4d}: {full_name}')\n",
    "\n",
    "        with open(os.path.join(p_entrants, f'{i}.json'), 'w', encoding='utf-8') as fp:\n",
    "            json.dump(entrants[i], fp)"
   ]
  },
  {
   "cell_type": "code",
   "execution_count": null,
   "metadata": {},
   "outputs": [],
   "source": [
    "p_scores = os.path.join(p, 'song_scores')\n",
    "if not os.path.exists(p_scores):\n",
    "    os.makedirs(p_scores)\n",
    "\n",
    "with open(os.path.join(p, 'charts.json'), 'r', encoding='utf-8') as fp:\n",
    "    charts = json.load(fp)\n",
    "\n",
    "# Entrant query\n",
    "scores = {}\n",
    "strikes = []\n",
    "total = 0\n",
    "for c in charts.values():\n",
    "    total += 1\n",
    "    if total > 10000:\n",
    "        break\n",
    "\n",
    "    i = c.get('id', 0)\n",
    "\n",
    "    r = requests.post(\n",
    "        f'https://itl2023.groovestats.com/api/score/chartTopScores',\n",
    "        data={'chartHash': c['hash']}\n",
    "    )\n",
    "    j = r.json()\n",
    "    if not j.get('success', False):\n",
    "        logging.warning(f\"{i:4d} (hash {c['hash']}): {j.get('message', '')}\")\n",
    "        strikes.append(i)\n",
    "        if len(strikes) > 5:\n",
    "            break\n",
    "    else:\n",
    "        strikes = []\n",
    "        full_name = f\"{c.get('artist')} - \\\"{c.get('title')}\\\"\"\n",
    "        scores[i] = j.get('data', {}).get('leaderboard', {})\n",
    "        for s in scores[i]:\n",
    "            s['chartId'] = i\n",
    "        logging.info(f\"{i:4d} (hash {c['hash']}): {full_name}, {len(scores[i])} scores\")\n",
    "\n",
    "        with open(os.path.join(p_scores, f'{i}.json'), 'w', encoding='utf-8') as fp:\n",
    "            json.dump({'scores': scores[i]}, fp)"
   ]
  },
  {
   "cell_type": "code",
   "execution_count": null,
   "metadata": {},
   "outputs": [],
   "source": [
    "p_charts = os.path.join(p, 'song_info')\n",
    "if not os.path.exists(p_charts):\n",
    "    os.makedirs(p_charts)\n",
    "\n",
    "with open(os.path.join(p, 'charts.json'), 'r', encoding='utf-8') as fp:\n",
    "    charts = json.load(fp)\n",
    "\n",
    "for c in charts.values():\n",
    "    i = c.get('id', 0)\n",
    "    \n",
    "    full_name = f\"{c.get('artist')} - \\\"{c.get('title')}\\\"\"\n",
    "    logging.info(f\"{i:4d} (hash {c['hash']}): {full_name}\")\n",
    "\n",
    "    with open(os.path.join(p_charts, f'{i}.json'), 'w', encoding='utf-8') as fp:\n",
    "        json.dump({'song': c}, fp)"
   ]
  },
  {
   "cell_type": "code",
   "execution_count": null,
   "metadata": {},
   "outputs": [],
   "source": [
    "import os\n",
    "import json\n",
    "\n",
    "p = os.path.join('itl2023_data', '20230405')\n",
    "\n",
    "p_charts = os.path.join(p, 'song_info')\n",
    "if not os.path.exists(p_charts):\n",
    "    os.makedirs(p_charts)\n",
    "\n",
    "with open(os.path.join(p, 'charts.json'), 'r', encoding='utf-8') as fp:\n",
    "    charts = json.load(fp)\n",
    "\n",
    "c_meter = sorted(list(charts.values()), key=lambda v: v.get('meter', 0))\n",
    "for c in c_meter:\n",
    "    print(f\"{c.get('id', 0):4d}: {c.get('meter', 0):2d} worth a max of {c.get('points', 0):5d} pts.\")"
   ]
  },
  {
   "cell_type": "code",
   "execution_count": null,
   "metadata": {},
   "outputs": [],
   "source": [
    "from datetime import datetime as dt\n",
    "\n",
    "x = dt.strptime('2023-03-27T03:38:53.000Z', '%Y-%m-%dT%H:%M:%S.%fZ')\n",
    "\n",
    "y = x - dt.utcfromtimestamp(0)\n",
    "print(y.total_seconds())"
   ]
  },
  {
   "cell_type": "code",
   "execution_count": null,
   "metadata": {},
   "outputs": [],
   "source": [
    "import numpy as np\n",
    "\n",
    "a = np.array([np.nan, 3, 4, np.nan, 5])\n",
    "x = ~np.isnan(a)\n",
    "sum(x)"
   ]
  },
  {
   "cell_type": "code",
   "execution_count": null,
   "metadata": {},
   "outputs": [],
   "source": [
    "import hsluv\n",
    "import numpy as np\n",
    "\n",
    "colors = [hsluv.hsluv_to_hex([330, saturation, 50]) for saturation in np.linspace(0, 100, 11)]\n",
    "colors"
   ]
  },
  {
   "cell_type": "code",
   "execution_count": null,
   "metadata": {},
   "outputs": [],
   "source": [
    "from typing import List\n",
    "def colorize_dates(dates: List[float], alpha: int = 170) -> List[str]:\n",
    "    dates_days = [round(d / 86400) for d in dates]\n",
    "    dates_unique = sorted(list(set(dates_days)))\n",
    "    colors_ref = [hsluv.hsluv_to_hex([345, 100 * saturation**2, 50 * saturation]) + f'{alpha:02x}' for saturation in np.linspace(0, 1, len(dates_unique))]\n",
    "    dates_match = [dates_unique.index(v) for v in dates_days]\n",
    "    colors = [colors_ref[i] for i in dates_match]\n",
    "    return colors"
   ]
  },
  {
   "cell_type": "code",
   "execution_count": null,
   "metadata": {},
   "outputs": [],
   "source": [
    "colorize_dates([300000, 500000, 400000, 300000, 200000, 500000])"
   ]
  },
  {
   "cell_type": "code",
   "execution_count": null,
   "metadata": {},
   "outputs": [],
   "source": [
    "x = np.linspace(1, 0, 11)\n"
   ]
  },
  {
   "cell_type": "code",
   "execution_count": null,
   "metadata": {},
   "outputs": [],
   "source": [
    "def point_curve(pc, ex: float) -> float:\n",
    "    if pc == 'itl2023':\n",
    "        x = ex * 100\n",
    "        return np.log(min(x, 50) + 1)/np.log(1.1032889141348) + np.power(61, (max(x, 50)-50)/50) - 1\n",
    "    elif pc == 'itl2022':\n",
    "        x = ex * 100\n",
    "        return np.log(min(x, 75) + 1)/np.log(1.0638215)       + np.power(31, (max(x, 75)-75)/25) - 1\n",
    "    else:   # Unknown or don't care\n",
    "        return 0"
   ]
  },
  {
   "cell_type": "code",
   "execution_count": null,
   "metadata": {},
   "outputs": [],
   "source": [
    "from matplotlib import pyplot as plt\n",
    "\n",
    "x = np.linspace(0, 1, 51)\n",
    "y2022 = [point_curve('itl2022', v) for v in x]\n",
    "y2023 = [point_curve('itl2023', v) for v in x]\n",
    "plt.plot(x, y2022)\n",
    "plt.plot(x, y2023)\n",
    "plt.show()"
   ]
  },
  {
   "cell_type": "code",
   "execution_count": null,
   "metadata": {},
   "outputs": [],
   "source": [
    "f'{34934.2394028:4.0f}'"
   ]
  }
 ],
 "metadata": {
  "interpreter": {
   "hash": "d37f3fb7e44e5043151cfeeeeb26c4dc1eced2e6e128533299704562dd693bb2"
  },
  "kernelspec": {
   "display_name": "Python 3.9.1 64-bit ('scobility-Dqmn35Dz': pipenv)",
   "language": "python",
   "name": "python3"
  },
  "language_info": {
   "codemirror_mode": {
    "name": "ipython",
    "version": 3
   },
   "file_extension": ".py",
   "mimetype": "text/x-python",
   "name": "python",
   "nbconvert_exporter": "python",
   "pygments_lexer": "ipython3",
   "version": "3.9.1"
  },
  "orig_nbformat": 4
 },
 "nbformat": 4,
 "nbformat_minor": 2
}
